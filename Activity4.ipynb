{
 "cells": [
  {
   "cell_type": "code",
   "execution_count": 1,
   "id": "12a3bbd6-5e57-482f-8d98-c0556d379adc",
   "metadata": {},
   "outputs": [],
   "source": [
    "import numpy as np\n",
    "import pandas as pd\n",
    "import seaborn as sns\n",
    "import matplotlib.pyplot as plt\n",
    "from scipy.stats import f_oneway\n",
    "\n",
    "import warnings\n",
    "warnings.filterwarnings('ignore')"
   ]
  },
  {
   "cell_type": "code",
   "execution_count": 2,
   "id": "37585b25-6625-4294-b921-7f10619adf89",
   "metadata": {},
   "outputs": [],
   "source": [
    "accident = pd.read_csv('datasets\\\\accident_data.csv')"
   ]
  },
  {
   "cell_type": "code",
   "execution_count": 3,
   "id": "4f2ecaa6-5d3b-42c1-9cd8-69d62406bd48",
   "metadata": {},
   "outputs": [
    {
     "data": {
      "text/html": [
       "<div>\n",
       "<style scoped>\n",
       "    .dataframe tbody tr th:only-of-type {\n",
       "        vertical-align: middle;\n",
       "    }\n",
       "\n",
       "    .dataframe tbody tr th {\n",
       "        vertical-align: top;\n",
       "    }\n",
       "\n",
       "    .dataframe thead th {\n",
       "        text-align: right;\n",
       "    }\n",
       "</style>\n",
       "<table border=\"1\" class=\"dataframe\">\n",
       "  <thead>\n",
       "    <tr style=\"text-align: right;\">\n",
       "      <th></th>\n",
       "      <th>Index</th>\n",
       "      <th>Accident_Severity</th>\n",
       "      <th>Accident Date</th>\n",
       "      <th>Latitude</th>\n",
       "      <th>Light_Conditions</th>\n",
       "      <th>District Area</th>\n",
       "      <th>Longitude</th>\n",
       "      <th>Number_of_Casualties</th>\n",
       "      <th>Number_of_Vehicles</th>\n",
       "      <th>Road_Surface_Conditions</th>\n",
       "      <th>Road_Type</th>\n",
       "      <th>Urban_or_Rural_Area</th>\n",
       "      <th>Weather_Conditions</th>\n",
       "      <th>Vehicle_Type</th>\n",
       "    </tr>\n",
       "  </thead>\n",
       "  <tbody>\n",
       "    <tr>\n",
       "      <th>0</th>\n",
       "      <td>200701BS64157</td>\n",
       "      <td>Serious</td>\n",
       "      <td>5/6/2019</td>\n",
       "      <td>51.506187</td>\n",
       "      <td>Darkness - lights lit</td>\n",
       "      <td>Kensington and Chelsea</td>\n",
       "      <td>-0.209082</td>\n",
       "      <td>1</td>\n",
       "      <td>2</td>\n",
       "      <td>Dry</td>\n",
       "      <td>Single carriageway</td>\n",
       "      <td>Urban</td>\n",
       "      <td>Fine no high winds</td>\n",
       "      <td>Car</td>\n",
       "    </tr>\n",
       "    <tr>\n",
       "      <th>1</th>\n",
       "      <td>200701BS65737</td>\n",
       "      <td>Serious</td>\n",
       "      <td>2/7/2019</td>\n",
       "      <td>51.495029</td>\n",
       "      <td>Daylight</td>\n",
       "      <td>Kensington and Chelsea</td>\n",
       "      <td>-0.173647</td>\n",
       "      <td>1</td>\n",
       "      <td>2</td>\n",
       "      <td>Wet or damp</td>\n",
       "      <td>Single carriageway</td>\n",
       "      <td>Urban</td>\n",
       "      <td>Raining no high winds</td>\n",
       "      <td>Car</td>\n",
       "    </tr>\n",
       "    <tr>\n",
       "      <th>2</th>\n",
       "      <td>200701BS66127</td>\n",
       "      <td>Serious</td>\n",
       "      <td>26-08-2019</td>\n",
       "      <td>51.517715</td>\n",
       "      <td>Darkness - lighting unknown</td>\n",
       "      <td>Kensington and Chelsea</td>\n",
       "      <td>-0.210215</td>\n",
       "      <td>1</td>\n",
       "      <td>3</td>\n",
       "      <td>Dry</td>\n",
       "      <td>NaN</td>\n",
       "      <td>Urban</td>\n",
       "      <td>NaN</td>\n",
       "      <td>Taxi/Private hire car</td>\n",
       "    </tr>\n",
       "    <tr>\n",
       "      <th>3</th>\n",
       "      <td>200701BS66128</td>\n",
       "      <td>Serious</td>\n",
       "      <td>16-08-2019</td>\n",
       "      <td>51.495478</td>\n",
       "      <td>Daylight</td>\n",
       "      <td>Kensington and Chelsea</td>\n",
       "      <td>-0.202731</td>\n",
       "      <td>1</td>\n",
       "      <td>4</td>\n",
       "      <td>Dry</td>\n",
       "      <td>Single carriageway</td>\n",
       "      <td>Urban</td>\n",
       "      <td>Fine no high winds</td>\n",
       "      <td>Bus or coach (17 or more pass seats)</td>\n",
       "    </tr>\n",
       "    <tr>\n",
       "      <th>4</th>\n",
       "      <td>200701BS66837</td>\n",
       "      <td>Slight</td>\n",
       "      <td>3/9/2019</td>\n",
       "      <td>51.488576</td>\n",
       "      <td>Darkness - lights lit</td>\n",
       "      <td>Kensington and Chelsea</td>\n",
       "      <td>-0.192487</td>\n",
       "      <td>1</td>\n",
       "      <td>2</td>\n",
       "      <td>Dry</td>\n",
       "      <td>NaN</td>\n",
       "      <td>Urban</td>\n",
       "      <td>NaN</td>\n",
       "      <td>Other vehicle</td>\n",
       "    </tr>\n",
       "    <tr>\n",
       "      <th>...</th>\n",
       "      <td>...</td>\n",
       "      <td>...</td>\n",
       "      <td>...</td>\n",
       "      <td>...</td>\n",
       "      <td>...</td>\n",
       "      <td>...</td>\n",
       "      <td>...</td>\n",
       "      <td>...</td>\n",
       "      <td>...</td>\n",
       "      <td>...</td>\n",
       "      <td>...</td>\n",
       "      <td>...</td>\n",
       "      <td>...</td>\n",
       "      <td>...</td>\n",
       "    </tr>\n",
       "    <tr>\n",
       "      <th>660674</th>\n",
       "      <td>201091NM01760</td>\n",
       "      <td>Slight</td>\n",
       "      <td>18-02-2022</td>\n",
       "      <td>57.374005</td>\n",
       "      <td>Daylight</td>\n",
       "      <td>Highland</td>\n",
       "      <td>-3.467828</td>\n",
       "      <td>2</td>\n",
       "      <td>1</td>\n",
       "      <td>Dry</td>\n",
       "      <td>Single carriageway</td>\n",
       "      <td>Rural</td>\n",
       "      <td>Fine no high winds</td>\n",
       "      <td>Car</td>\n",
       "    </tr>\n",
       "    <tr>\n",
       "      <th>660675</th>\n",
       "      <td>201091NM01881</td>\n",
       "      <td>Slight</td>\n",
       "      <td>21-02-2022</td>\n",
       "      <td>57.232273</td>\n",
       "      <td>Darkness - no lighting</td>\n",
       "      <td>Highland</td>\n",
       "      <td>-3.809281</td>\n",
       "      <td>1</td>\n",
       "      <td>1</td>\n",
       "      <td>Frost or ice</td>\n",
       "      <td>Single carriageway</td>\n",
       "      <td>Rural</td>\n",
       "      <td>Fine no high winds</td>\n",
       "      <td>Car</td>\n",
       "    </tr>\n",
       "    <tr>\n",
       "      <th>660676</th>\n",
       "      <td>201091NM01935</td>\n",
       "      <td>Slight</td>\n",
       "      <td>23-02-2022</td>\n",
       "      <td>57.585044</td>\n",
       "      <td>Daylight</td>\n",
       "      <td>Highland</td>\n",
       "      <td>-3.862727</td>\n",
       "      <td>1</td>\n",
       "      <td>3</td>\n",
       "      <td>Frost or ice</td>\n",
       "      <td>Single carriageway</td>\n",
       "      <td>Rural</td>\n",
       "      <td>Fine no high winds</td>\n",
       "      <td>Car</td>\n",
       "    </tr>\n",
       "    <tr>\n",
       "      <th>660677</th>\n",
       "      <td>201091NM01964</td>\n",
       "      <td>Serious</td>\n",
       "      <td>23-02-2022</td>\n",
       "      <td>57.214898</td>\n",
       "      <td>Darkness - no lighting</td>\n",
       "      <td>Highland</td>\n",
       "      <td>-3.823997</td>\n",
       "      <td>1</td>\n",
       "      <td>2</td>\n",
       "      <td>Wet or damp</td>\n",
       "      <td>Single carriageway</td>\n",
       "      <td>Rural</td>\n",
       "      <td>Fine no high winds</td>\n",
       "      <td>Motorcycle over 500cc</td>\n",
       "    </tr>\n",
       "    <tr>\n",
       "      <th>660678</th>\n",
       "      <td>201091NM02142</td>\n",
       "      <td>Serious</td>\n",
       "      <td>28-02-2022</td>\n",
       "      <td>57.575210</td>\n",
       "      <td>Daylight</td>\n",
       "      <td>Highland</td>\n",
       "      <td>-3.895673</td>\n",
       "      <td>1</td>\n",
       "      <td>1</td>\n",
       "      <td>Wet or damp</td>\n",
       "      <td>Dual carriageway</td>\n",
       "      <td>Rural</td>\n",
       "      <td>Snowing no high winds</td>\n",
       "      <td>Car</td>\n",
       "    </tr>\n",
       "  </tbody>\n",
       "</table>\n",
       "<p>660679 rows × 14 columns</p>\n",
       "</div>"
      ],
      "text/plain": [
       "                Index Accident_Severity Accident Date   Latitude  \\\n",
       "0       200701BS64157           Serious      5/6/2019  51.506187   \n",
       "1       200701BS65737           Serious      2/7/2019  51.495029   \n",
       "2       200701BS66127           Serious    26-08-2019  51.517715   \n",
       "3       200701BS66128           Serious    16-08-2019  51.495478   \n",
       "4       200701BS66837            Slight      3/9/2019  51.488576   \n",
       "...               ...               ...           ...        ...   \n",
       "660674  201091NM01760            Slight    18-02-2022  57.374005   \n",
       "660675  201091NM01881            Slight    21-02-2022  57.232273   \n",
       "660676  201091NM01935            Slight    23-02-2022  57.585044   \n",
       "660677  201091NM01964           Serious    23-02-2022  57.214898   \n",
       "660678  201091NM02142           Serious    28-02-2022  57.575210   \n",
       "\n",
       "                   Light_Conditions           District Area  Longitude  \\\n",
       "0             Darkness - lights lit  Kensington and Chelsea  -0.209082   \n",
       "1                          Daylight  Kensington and Chelsea  -0.173647   \n",
       "2       Darkness - lighting unknown  Kensington and Chelsea  -0.210215   \n",
       "3                          Daylight  Kensington and Chelsea  -0.202731   \n",
       "4             Darkness - lights lit  Kensington and Chelsea  -0.192487   \n",
       "...                             ...                     ...        ...   \n",
       "660674                     Daylight                Highland  -3.467828   \n",
       "660675       Darkness - no lighting                Highland  -3.809281   \n",
       "660676                     Daylight                Highland  -3.862727   \n",
       "660677       Darkness - no lighting                Highland  -3.823997   \n",
       "660678                     Daylight                Highland  -3.895673   \n",
       "\n",
       "        Number_of_Casualties  Number_of_Vehicles Road_Surface_Conditions  \\\n",
       "0                          1                   2                     Dry   \n",
       "1                          1                   2             Wet or damp   \n",
       "2                          1                   3                     Dry   \n",
       "3                          1                   4                     Dry   \n",
       "4                          1                   2                     Dry   \n",
       "...                      ...                 ...                     ...   \n",
       "660674                     2                   1                     Dry   \n",
       "660675                     1                   1            Frost or ice   \n",
       "660676                     1                   3            Frost or ice   \n",
       "660677                     1                   2             Wet or damp   \n",
       "660678                     1                   1             Wet or damp   \n",
       "\n",
       "                 Road_Type Urban_or_Rural_Area     Weather_Conditions  \\\n",
       "0       Single carriageway               Urban     Fine no high winds   \n",
       "1       Single carriageway               Urban  Raining no high winds   \n",
       "2                      NaN               Urban                    NaN   \n",
       "3       Single carriageway               Urban     Fine no high winds   \n",
       "4                      NaN               Urban                    NaN   \n",
       "...                    ...                 ...                    ...   \n",
       "660674  Single carriageway               Rural     Fine no high winds   \n",
       "660675  Single carriageway               Rural     Fine no high winds   \n",
       "660676  Single carriageway               Rural     Fine no high winds   \n",
       "660677  Single carriageway               Rural     Fine no high winds   \n",
       "660678    Dual carriageway               Rural  Snowing no high winds   \n",
       "\n",
       "                                Vehicle_Type  \n",
       "0                                        Car  \n",
       "1                                        Car  \n",
       "2                      Taxi/Private hire car  \n",
       "3       Bus or coach (17 or more pass seats)  \n",
       "4                              Other vehicle  \n",
       "...                                      ...  \n",
       "660674                                   Car  \n",
       "660675                                   Car  \n",
       "660676                                   Car  \n",
       "660677                 Motorcycle over 500cc  \n",
       "660678                                   Car  \n",
       "\n",
       "[660679 rows x 14 columns]"
      ]
     },
     "execution_count": 3,
     "metadata": {},
     "output_type": "execute_result"
    }
   ],
   "source": [
    "accident"
   ]
  },
  {
   "cell_type": "markdown",
   "id": "e370733f-e590-4499-9c55-ce814ca8a4cb",
   "metadata": {},
   "source": [
    "<h1>Data Exploration</h1>"
   ]
  },
  {
   "cell_type": "code",
   "execution_count": 4,
   "id": "122bb3cd-12d2-4d41-93a2-dc0aaa4fb7df",
   "metadata": {},
   "outputs": [
    {
     "name": "stdout",
     "output_type": "stream",
     "text": [
      "<class 'pandas.core.frame.DataFrame'>\n",
      "RangeIndex: 660679 entries, 0 to 660678\n",
      "Data columns (total 14 columns):\n",
      " #   Column                   Non-Null Count   Dtype  \n",
      "---  ------                   --------------   -----  \n",
      " 0   Index                    660679 non-null  object \n",
      " 1   Accident_Severity        660679 non-null  object \n",
      " 2   Accident Date            660679 non-null  object \n",
      " 3   Latitude                 660654 non-null  float64\n",
      " 4   Light_Conditions         660679 non-null  object \n",
      " 5   District Area            660679 non-null  object \n",
      " 6   Longitude                660653 non-null  float64\n",
      " 7   Number_of_Casualties     660679 non-null  int64  \n",
      " 8   Number_of_Vehicles       660679 non-null  int64  \n",
      " 9   Road_Surface_Conditions  659953 non-null  object \n",
      " 10  Road_Type                656159 non-null  object \n",
      " 11  Urban_or_Rural_Area      660664 non-null  object \n",
      " 12  Weather_Conditions       646551 non-null  object \n",
      " 13  Vehicle_Type             660679 non-null  object \n",
      "dtypes: float64(2), int64(2), object(10)\n",
      "memory usage: 70.6+ MB\n"
     ]
    }
   ],
   "source": [
    "accident.info()"
   ]
  },
  {
   "cell_type": "code",
   "execution_count": 5,
   "id": "51251999-78c2-4693-b358-b3859cf23794",
   "metadata": {},
   "outputs": [
    {
     "data": {
      "text/html": [
       "<div>\n",
       "<style scoped>\n",
       "    .dataframe tbody tr th:only-of-type {\n",
       "        vertical-align: middle;\n",
       "    }\n",
       "\n",
       "    .dataframe tbody tr th {\n",
       "        vertical-align: top;\n",
       "    }\n",
       "\n",
       "    .dataframe thead th {\n",
       "        text-align: right;\n",
       "    }\n",
       "</style>\n",
       "<table border=\"1\" class=\"dataframe\">\n",
       "  <thead>\n",
       "    <tr style=\"text-align: right;\">\n",
       "      <th></th>\n",
       "      <th>Latitude</th>\n",
       "      <th>Longitude</th>\n",
       "      <th>Number_of_Casualties</th>\n",
       "      <th>Number_of_Vehicles</th>\n",
       "    </tr>\n",
       "  </thead>\n",
       "  <tbody>\n",
       "    <tr>\n",
       "      <th>count</th>\n",
       "      <td>660654.000000</td>\n",
       "      <td>660653.000000</td>\n",
       "      <td>660679.000000</td>\n",
       "      <td>660679.000000</td>\n",
       "    </tr>\n",
       "    <tr>\n",
       "      <th>mean</th>\n",
       "      <td>52.553866</td>\n",
       "      <td>-1.431210</td>\n",
       "      <td>1.357040</td>\n",
       "      <td>1.831255</td>\n",
       "    </tr>\n",
       "    <tr>\n",
       "      <th>std</th>\n",
       "      <td>1.406922</td>\n",
       "      <td>1.383330</td>\n",
       "      <td>0.824847</td>\n",
       "      <td>0.715269</td>\n",
       "    </tr>\n",
       "    <tr>\n",
       "      <th>min</th>\n",
       "      <td>49.914430</td>\n",
       "      <td>-7.516225</td>\n",
       "      <td>1.000000</td>\n",
       "      <td>1.000000</td>\n",
       "    </tr>\n",
       "    <tr>\n",
       "      <th>25%</th>\n",
       "      <td>51.490690</td>\n",
       "      <td>-2.332291</td>\n",
       "      <td>1.000000</td>\n",
       "      <td>1.000000</td>\n",
       "    </tr>\n",
       "    <tr>\n",
       "      <th>50%</th>\n",
       "      <td>52.315641</td>\n",
       "      <td>-1.411667</td>\n",
       "      <td>1.000000</td>\n",
       "      <td>2.000000</td>\n",
       "    </tr>\n",
       "    <tr>\n",
       "      <th>75%</th>\n",
       "      <td>53.453452</td>\n",
       "      <td>-0.232869</td>\n",
       "      <td>1.000000</td>\n",
       "      <td>2.000000</td>\n",
       "    </tr>\n",
       "    <tr>\n",
       "      <th>max</th>\n",
       "      <td>60.757544</td>\n",
       "      <td>1.762010</td>\n",
       "      <td>68.000000</td>\n",
       "      <td>32.000000</td>\n",
       "    </tr>\n",
       "  </tbody>\n",
       "</table>\n",
       "</div>"
      ],
      "text/plain": [
       "            Latitude      Longitude  Number_of_Casualties  Number_of_Vehicles\n",
       "count  660654.000000  660653.000000         660679.000000       660679.000000\n",
       "mean       52.553866      -1.431210              1.357040            1.831255\n",
       "std         1.406922       1.383330              0.824847            0.715269\n",
       "min        49.914430      -7.516225              1.000000            1.000000\n",
       "25%        51.490690      -2.332291              1.000000            1.000000\n",
       "50%        52.315641      -1.411667              1.000000            2.000000\n",
       "75%        53.453452      -0.232869              1.000000            2.000000\n",
       "max        60.757544       1.762010             68.000000           32.000000"
      ]
     },
     "execution_count": 5,
     "metadata": {},
     "output_type": "execute_result"
    }
   ],
   "source": [
    "accident.describe()"
   ]
  },
  {
   "cell_type": "code",
   "execution_count": 6,
   "id": "86a29c11-cd75-480e-8021-c43b8072db49",
   "metadata": {},
   "outputs": [
    {
     "data": {
      "text/plain": [
       "Index                          0\n",
       "Accident_Severity              0\n",
       "Accident Date                  0\n",
       "Latitude                      25\n",
       "Light_Conditions               0\n",
       "District Area                  0\n",
       "Longitude                     26\n",
       "Number_of_Casualties           0\n",
       "Number_of_Vehicles             0\n",
       "Road_Surface_Conditions      726\n",
       "Road_Type                   4520\n",
       "Urban_or_Rural_Area           15\n",
       "Weather_Conditions         14128\n",
       "Vehicle_Type                   0\n",
       "dtype: int64"
      ]
     },
     "execution_count": 6,
     "metadata": {},
     "output_type": "execute_result"
    }
   ],
   "source": [
    "accident.isnull().sum()"
   ]
  },
  {
   "cell_type": "markdown",
   "id": "1707a5bf-def7-43af-84c5-246bb8c6a9d9",
   "metadata": {},
   "source": [
    "<h1>Fill up Null Values</h1>"
   ]
  },
  {
   "cell_type": "code",
   "execution_count": 7,
   "id": "987f7def-02cb-494c-b670-f20e49c32c7d",
   "metadata": {},
   "outputs": [],
   "source": [
    "accident['Latitude'] = accident['Latitude'].fillna(accident['Latitude'].mode()[0])"
   ]
  },
  {
   "cell_type": "code",
   "execution_count": 8,
   "id": "0a956a7f-f17f-46ff-89cf-7bf86c6e62da",
   "metadata": {},
   "outputs": [],
   "source": [
    "accident['Longitude'] = accident['Longitude'].fillna(accident['Longitude'].mode()[0])"
   ]
  },
  {
   "cell_type": "code",
   "execution_count": 9,
   "id": "50692099-8af0-445e-9dec-5164bd55ee35",
   "metadata": {},
   "outputs": [],
   "source": [
    "accident['Urban_or_Rural_Area'] = accident['Urban_or_Rural_Area'].fillna(accident['Urban_or_Rural_Area'].mode()[0])"
   ]
  },
  {
   "cell_type": "code",
   "execution_count": 10,
   "id": "1229446e-748b-4eb0-a772-365e390d2dc5",
   "metadata": {},
   "outputs": [],
   "source": [
    "accident['Weather_Conditions'] = accident['Weather_Conditions'].fillna('unaccounted')"
   ]
  },
  {
   "cell_type": "code",
   "execution_count": 11,
   "id": "4d2aac9f-98c9-4899-8316-8027678f7ad1",
   "metadata": {},
   "outputs": [],
   "source": [
    "accident['Road_Surface_Conditions'] = accident['Road_Surface_Conditions'].fillna(accident['Road_Surface_Conditions'].mode()[0])"
   ]
  },
  {
   "cell_type": "code",
   "execution_count": 12,
   "id": "7f68660a-dfbd-46da-a841-2f7f9fbbd011",
   "metadata": {},
   "outputs": [
    {
     "data": {
      "text/plain": [
       "Index                      0\n",
       "Accident_Severity          0\n",
       "Accident Date              0\n",
       "Latitude                   0\n",
       "Light_Conditions           0\n",
       "District Area              0\n",
       "Longitude                  0\n",
       "Number_of_Casualties       0\n",
       "Number_of_Vehicles         0\n",
       "Road_Surface_Conditions    0\n",
       "Road_Type                  0\n",
       "Urban_or_Rural_Area        0\n",
       "Weather_Conditions         0\n",
       "Vehicle_Type               0\n",
       "dtype: int64"
      ]
     },
     "execution_count": 12,
     "metadata": {},
     "output_type": "execute_result"
    }
   ],
   "source": [
    "accident['Road_Type'] = accident['Road_Type'].fillna('unknown')\n",
    "accident.isnull().sum()"
   ]
  },
  {
   "cell_type": "markdown",
   "id": "88042e72-65e8-4704-9b10-78941c716c11",
   "metadata": {},
   "source": [
    "<h1>Data Types</h1>"
   ]
  },
  {
   "cell_type": "code",
   "execution_count": 13,
   "id": "e788f805-4ac2-4580-93c9-dc5574fd0e3a",
   "metadata": {},
   "outputs": [
    {
     "data": {
      "text/plain": [
       "Index                       object\n",
       "Accident_Severity           object\n",
       "Accident Date               object\n",
       "Latitude                   float64\n",
       "Light_Conditions            object\n",
       "District Area               object\n",
       "Longitude                  float64\n",
       "Number_of_Casualties         int64\n",
       "Number_of_Vehicles           int64\n",
       "Road_Surface_Conditions     object\n",
       "Road_Type                   object\n",
       "Urban_or_Rural_Area         object\n",
       "Weather_Conditions          object\n",
       "Vehicle_Type                object\n",
       "dtype: object"
      ]
     },
     "execution_count": 13,
     "metadata": {},
     "output_type": "execute_result"
    }
   ],
   "source": [
    "accident.dtypes"
   ]
  },
  {
   "cell_type": "code",
   "execution_count": 14,
   "id": "1d391b1c-a31d-40d2-805a-b3e0bd0d6a1c",
   "metadata": {},
   "outputs": [],
   "source": [
    "accident['Accident_Severity'] = accident['Accident_Severity'].astype('category')"
   ]
  },
  {
   "cell_type": "code",
   "execution_count": 15,
   "id": "c0031166-c64b-4d76-ac7c-7f9f79a79361",
   "metadata": {},
   "outputs": [],
   "source": [
    "accident['Accident Date'] = pd.to_datetime(accident['Accident Date'] , dayfirst = True, errors = 'coerce')"
   ]
  },
  {
   "cell_type": "code",
   "execution_count": 16,
   "id": "0d3e5956-2113-4386-b676-0aa33703955a",
   "metadata": {},
   "outputs": [],
   "source": [
    "accident['Light_Conditions'] = accident['Light_Conditions'].astype('category')"
   ]
  },
  {
   "cell_type": "code",
   "execution_count": 17,
   "id": "951055f1-bc81-45f4-a17e-554e934ffcdd",
   "metadata": {},
   "outputs": [],
   "source": [
    "accident['District Area'] = accident['District Area'].astype('category')"
   ]
  },
  {
   "cell_type": "code",
   "execution_count": 18,
   "id": "975d0790-113f-4d73-856b-870a5d3b0d2f",
   "metadata": {},
   "outputs": [],
   "source": [
    "accident['Road_Surface_Conditions'] = accident['Road_Surface_Conditions'].astype('object')"
   ]
  },
  {
   "cell_type": "code",
   "execution_count": 19,
   "id": "8fbe62d7-0b1a-4de3-9ff6-2eabab16b8db",
   "metadata": {},
   "outputs": [],
   "source": [
    "accident['Road_Type'] = accident['Road_Type'].astype('object')"
   ]
  },
  {
   "cell_type": "code",
   "execution_count": 20,
   "id": "48cf0466-609d-4eb7-9d4d-052efa302e2b",
   "metadata": {},
   "outputs": [],
   "source": [
    "accident['Urban_or_Rural_Area'] = accident['Urban_or_Rural_Area'].astype('category')"
   ]
  },
  {
   "cell_type": "code",
   "execution_count": 21,
   "id": "174038d2-f529-4222-9137-51a8a0041ecd",
   "metadata": {},
   "outputs": [],
   "source": [
    "accident['Vehicle_Type'] = accident['Vehicle_Type'].astype('category')"
   ]
  },
  {
   "cell_type": "code",
   "execution_count": 22,
   "id": "1483d68e-d442-43f3-960f-56db80ee9bc4",
   "metadata": {},
   "outputs": [
    {
     "data": {
      "text/plain": [
       "Index                              object\n",
       "Accident_Severity                category\n",
       "Accident Date              datetime64[ns]\n",
       "Latitude                          float64\n",
       "Light_Conditions                 category\n",
       "District Area                    category\n",
       "Longitude                         float64\n",
       "Number_of_Casualties                int64\n",
       "Number_of_Vehicles                  int64\n",
       "Road_Surface_Conditions            object\n",
       "Road_Type                          object\n",
       "Urban_or_Rural_Area              category\n",
       "Weather_Conditions                 object\n",
       "Vehicle_Type                     category\n",
       "dtype: object"
      ]
     },
     "execution_count": 22,
     "metadata": {},
     "output_type": "execute_result"
    }
   ],
   "source": [
    "accident.dtypes"
   ]
  },
  {
   "cell_type": "code",
   "execution_count": 23,
   "id": "8e43f69f-6797-4c9e-8ca6-522162b8a0eb",
   "metadata": {
    "scrolled": true
   },
   "outputs": [
    {
     "data": {
      "text/html": [
       "<div>\n",
       "<style scoped>\n",
       "    .dataframe tbody tr th:only-of-type {\n",
       "        vertical-align: middle;\n",
       "    }\n",
       "\n",
       "    .dataframe tbody tr th {\n",
       "        vertical-align: top;\n",
       "    }\n",
       "\n",
       "    .dataframe thead th {\n",
       "        text-align: right;\n",
       "    }\n",
       "</style>\n",
       "<table border=\"1\" class=\"dataframe\">\n",
       "  <thead>\n",
       "    <tr style=\"text-align: right;\">\n",
       "      <th></th>\n",
       "      <th>Index</th>\n",
       "      <th>Accident_Severity</th>\n",
       "      <th>Accident Date</th>\n",
       "      <th>Latitude</th>\n",
       "      <th>Light_Conditions</th>\n",
       "      <th>District Area</th>\n",
       "      <th>Longitude</th>\n",
       "      <th>Number_of_Casualties</th>\n",
       "      <th>Number_of_Vehicles</th>\n",
       "      <th>Road_Surface_Conditions</th>\n",
       "      <th>Road_Type</th>\n",
       "      <th>Urban_or_Rural_Area</th>\n",
       "      <th>Weather_Conditions</th>\n",
       "      <th>Vehicle_Type</th>\n",
       "    </tr>\n",
       "  </thead>\n",
       "  <tbody>\n",
       "    <tr>\n",
       "      <th>0</th>\n",
       "      <td>200701BS64157</td>\n",
       "      <td>Serious</td>\n",
       "      <td>2019-06-05</td>\n",
       "      <td>51.506187</td>\n",
       "      <td>Darkness - lights lit</td>\n",
       "      <td>Kensington and Chelsea</td>\n",
       "      <td>-0.209082</td>\n",
       "      <td>1</td>\n",
       "      <td>2</td>\n",
       "      <td>Dry</td>\n",
       "      <td>Single carriageway</td>\n",
       "      <td>Urban</td>\n",
       "      <td>Fine no high winds</td>\n",
       "      <td>Car</td>\n",
       "    </tr>\n",
       "    <tr>\n",
       "      <th>1</th>\n",
       "      <td>200701BS65737</td>\n",
       "      <td>Serious</td>\n",
       "      <td>2019-07-02</td>\n",
       "      <td>51.495029</td>\n",
       "      <td>Daylight</td>\n",
       "      <td>Kensington and Chelsea</td>\n",
       "      <td>-0.173647</td>\n",
       "      <td>1</td>\n",
       "      <td>2</td>\n",
       "      <td>Wet or damp</td>\n",
       "      <td>Single carriageway</td>\n",
       "      <td>Urban</td>\n",
       "      <td>Raining no high winds</td>\n",
       "      <td>Car</td>\n",
       "    </tr>\n",
       "    <tr>\n",
       "      <th>2</th>\n",
       "      <td>200701BS66127</td>\n",
       "      <td>Serious</td>\n",
       "      <td>NaT</td>\n",
       "      <td>51.517715</td>\n",
       "      <td>Darkness - lighting unknown</td>\n",
       "      <td>Kensington and Chelsea</td>\n",
       "      <td>-0.210215</td>\n",
       "      <td>1</td>\n",
       "      <td>3</td>\n",
       "      <td>Dry</td>\n",
       "      <td>unknown</td>\n",
       "      <td>Urban</td>\n",
       "      <td>unaccounted</td>\n",
       "      <td>Taxi/Private hire car</td>\n",
       "    </tr>\n",
       "    <tr>\n",
       "      <th>3</th>\n",
       "      <td>200701BS66128</td>\n",
       "      <td>Serious</td>\n",
       "      <td>NaT</td>\n",
       "      <td>51.495478</td>\n",
       "      <td>Daylight</td>\n",
       "      <td>Kensington and Chelsea</td>\n",
       "      <td>-0.202731</td>\n",
       "      <td>1</td>\n",
       "      <td>4</td>\n",
       "      <td>Dry</td>\n",
       "      <td>Single carriageway</td>\n",
       "      <td>Urban</td>\n",
       "      <td>Fine no high winds</td>\n",
       "      <td>Bus or coach (17 or more pass seats)</td>\n",
       "    </tr>\n",
       "    <tr>\n",
       "      <th>4</th>\n",
       "      <td>200701BS66837</td>\n",
       "      <td>Slight</td>\n",
       "      <td>2019-09-03</td>\n",
       "      <td>51.488576</td>\n",
       "      <td>Darkness - lights lit</td>\n",
       "      <td>Kensington and Chelsea</td>\n",
       "      <td>-0.192487</td>\n",
       "      <td>1</td>\n",
       "      <td>2</td>\n",
       "      <td>Dry</td>\n",
       "      <td>unknown</td>\n",
       "      <td>Urban</td>\n",
       "      <td>unaccounted</td>\n",
       "      <td>Other vehicle</td>\n",
       "    </tr>\n",
       "    <tr>\n",
       "      <th>...</th>\n",
       "      <td>...</td>\n",
       "      <td>...</td>\n",
       "      <td>...</td>\n",
       "      <td>...</td>\n",
       "      <td>...</td>\n",
       "      <td>...</td>\n",
       "      <td>...</td>\n",
       "      <td>...</td>\n",
       "      <td>...</td>\n",
       "      <td>...</td>\n",
       "      <td>...</td>\n",
       "      <td>...</td>\n",
       "      <td>...</td>\n",
       "      <td>...</td>\n",
       "    </tr>\n",
       "    <tr>\n",
       "      <th>660674</th>\n",
       "      <td>201091NM01760</td>\n",
       "      <td>Slight</td>\n",
       "      <td>NaT</td>\n",
       "      <td>57.374005</td>\n",
       "      <td>Daylight</td>\n",
       "      <td>Highland</td>\n",
       "      <td>-3.467828</td>\n",
       "      <td>2</td>\n",
       "      <td>1</td>\n",
       "      <td>Dry</td>\n",
       "      <td>Single carriageway</td>\n",
       "      <td>Rural</td>\n",
       "      <td>Fine no high winds</td>\n",
       "      <td>Car</td>\n",
       "    </tr>\n",
       "    <tr>\n",
       "      <th>660675</th>\n",
       "      <td>201091NM01881</td>\n",
       "      <td>Slight</td>\n",
       "      <td>NaT</td>\n",
       "      <td>57.232273</td>\n",
       "      <td>Darkness - no lighting</td>\n",
       "      <td>Highland</td>\n",
       "      <td>-3.809281</td>\n",
       "      <td>1</td>\n",
       "      <td>1</td>\n",
       "      <td>Frost or ice</td>\n",
       "      <td>Single carriageway</td>\n",
       "      <td>Rural</td>\n",
       "      <td>Fine no high winds</td>\n",
       "      <td>Car</td>\n",
       "    </tr>\n",
       "    <tr>\n",
       "      <th>660676</th>\n",
       "      <td>201091NM01935</td>\n",
       "      <td>Slight</td>\n",
       "      <td>NaT</td>\n",
       "      <td>57.585044</td>\n",
       "      <td>Daylight</td>\n",
       "      <td>Highland</td>\n",
       "      <td>-3.862727</td>\n",
       "      <td>1</td>\n",
       "      <td>3</td>\n",
       "      <td>Frost or ice</td>\n",
       "      <td>Single carriageway</td>\n",
       "      <td>Rural</td>\n",
       "      <td>Fine no high winds</td>\n",
       "      <td>Car</td>\n",
       "    </tr>\n",
       "    <tr>\n",
       "      <th>660677</th>\n",
       "      <td>201091NM01964</td>\n",
       "      <td>Serious</td>\n",
       "      <td>NaT</td>\n",
       "      <td>57.214898</td>\n",
       "      <td>Darkness - no lighting</td>\n",
       "      <td>Highland</td>\n",
       "      <td>-3.823997</td>\n",
       "      <td>1</td>\n",
       "      <td>2</td>\n",
       "      <td>Wet or damp</td>\n",
       "      <td>Single carriageway</td>\n",
       "      <td>Rural</td>\n",
       "      <td>Fine no high winds</td>\n",
       "      <td>Motorcycle over 500cc</td>\n",
       "    </tr>\n",
       "    <tr>\n",
       "      <th>660678</th>\n",
       "      <td>201091NM02142</td>\n",
       "      <td>Serious</td>\n",
       "      <td>NaT</td>\n",
       "      <td>57.575210</td>\n",
       "      <td>Daylight</td>\n",
       "      <td>Highland</td>\n",
       "      <td>-3.895673</td>\n",
       "      <td>1</td>\n",
       "      <td>1</td>\n",
       "      <td>Wet or damp</td>\n",
       "      <td>Dual carriageway</td>\n",
       "      <td>Rural</td>\n",
       "      <td>Snowing no high winds</td>\n",
       "      <td>Car</td>\n",
       "    </tr>\n",
       "  </tbody>\n",
       "</table>\n",
       "<p>660679 rows × 14 columns</p>\n",
       "</div>"
      ],
      "text/plain": [
       "                Index Accident_Severity Accident Date   Latitude  \\\n",
       "0       200701BS64157           Serious    2019-06-05  51.506187   \n",
       "1       200701BS65737           Serious    2019-07-02  51.495029   \n",
       "2       200701BS66127           Serious           NaT  51.517715   \n",
       "3       200701BS66128           Serious           NaT  51.495478   \n",
       "4       200701BS66837            Slight    2019-09-03  51.488576   \n",
       "...               ...               ...           ...        ...   \n",
       "660674  201091NM01760            Slight           NaT  57.374005   \n",
       "660675  201091NM01881            Slight           NaT  57.232273   \n",
       "660676  201091NM01935            Slight           NaT  57.585044   \n",
       "660677  201091NM01964           Serious           NaT  57.214898   \n",
       "660678  201091NM02142           Serious           NaT  57.575210   \n",
       "\n",
       "                   Light_Conditions           District Area  Longitude  \\\n",
       "0             Darkness - lights lit  Kensington and Chelsea  -0.209082   \n",
       "1                          Daylight  Kensington and Chelsea  -0.173647   \n",
       "2       Darkness - lighting unknown  Kensington and Chelsea  -0.210215   \n",
       "3                          Daylight  Kensington and Chelsea  -0.202731   \n",
       "4             Darkness - lights lit  Kensington and Chelsea  -0.192487   \n",
       "...                             ...                     ...        ...   \n",
       "660674                     Daylight                Highland  -3.467828   \n",
       "660675       Darkness - no lighting                Highland  -3.809281   \n",
       "660676                     Daylight                Highland  -3.862727   \n",
       "660677       Darkness - no lighting                Highland  -3.823997   \n",
       "660678                     Daylight                Highland  -3.895673   \n",
       "\n",
       "        Number_of_Casualties  Number_of_Vehicles Road_Surface_Conditions  \\\n",
       "0                          1                   2                     Dry   \n",
       "1                          1                   2             Wet or damp   \n",
       "2                          1                   3                     Dry   \n",
       "3                          1                   4                     Dry   \n",
       "4                          1                   2                     Dry   \n",
       "...                      ...                 ...                     ...   \n",
       "660674                     2                   1                     Dry   \n",
       "660675                     1                   1            Frost or ice   \n",
       "660676                     1                   3            Frost or ice   \n",
       "660677                     1                   2             Wet or damp   \n",
       "660678                     1                   1             Wet or damp   \n",
       "\n",
       "                 Road_Type Urban_or_Rural_Area     Weather_Conditions  \\\n",
       "0       Single carriageway               Urban     Fine no high winds   \n",
       "1       Single carriageway               Urban  Raining no high winds   \n",
       "2                  unknown               Urban            unaccounted   \n",
       "3       Single carriageway               Urban     Fine no high winds   \n",
       "4                  unknown               Urban            unaccounted   \n",
       "...                    ...                 ...                    ...   \n",
       "660674  Single carriageway               Rural     Fine no high winds   \n",
       "660675  Single carriageway               Rural     Fine no high winds   \n",
       "660676  Single carriageway               Rural     Fine no high winds   \n",
       "660677  Single carriageway               Rural     Fine no high winds   \n",
       "660678    Dual carriageway               Rural  Snowing no high winds   \n",
       "\n",
       "                                Vehicle_Type  \n",
       "0                                        Car  \n",
       "1                                        Car  \n",
       "2                      Taxi/Private hire car  \n",
       "3       Bus or coach (17 or more pass seats)  \n",
       "4                              Other vehicle  \n",
       "...                                      ...  \n",
       "660674                                   Car  \n",
       "660675                                   Car  \n",
       "660676                                   Car  \n",
       "660677                 Motorcycle over 500cc  \n",
       "660678                                   Car  \n",
       "\n",
       "[660679 rows x 14 columns]"
      ]
     },
     "execution_count": 23,
     "metadata": {},
     "output_type": "execute_result"
    }
   ],
   "source": [
    "accident"
   ]
  },
  {
   "cell_type": "markdown",
   "id": "75306613-b50b-4380-b03c-c87ec65c21a5",
   "metadata": {},
   "source": [
    "<h1>Extracting Date Information using Pandas Date Time</h1>"
   ]
  },
  {
   "cell_type": "code",
   "execution_count": 24,
   "id": "b4c2b99d-a5f3-4b31-ae19-050a19705dd9",
   "metadata": {},
   "outputs": [],
   "source": [
    "accident['Year'] = accident['Accident Date'].dt.year\n",
    "accident['Month'] = accident['Accident Date'].dt.month\n",
    "accident['Day'] = accident['Accident Date'].dt.day\n",
    "accident['DayofWeek'] = accident['Accident Date'].dt.dayofweek"
   ]
  },
  {
   "cell_type": "markdown",
   "id": "f1604940-cb2f-4fe9-9145-118abc817fd6",
   "metadata": {},
   "source": [
    "<h1>Univariate</h1>"
   ]
  },
  {
   "cell_type": "markdown",
   "id": "7d3392ed-6981-4569-95ff-b437e3973820",
   "metadata": {},
   "source": [
    "<h1>Question</h1>\n",
    "<h2>What Road  Surface Conditions accident happened in the dry condition in year?</h2>"
   ]
  },
  {
   "cell_type": "code",
   "execution_count": 25,
   "id": "5b857059-331f-4ec3-aa79-cde341d2bd65",
   "metadata": {},
   "outputs": [
    {
     "data": {
      "text/plain": [
       "Road_Surface_Conditions\n",
       "Dry                     448547\n",
       "Wet or damp             186708\n",
       "Frost or ice             18517\n",
       "Snow                      5890\n",
       "Flood over 3cm. deep      1017\n",
       "Name: count, dtype: int64"
      ]
     },
     "execution_count": 25,
     "metadata": {},
     "output_type": "execute_result"
    }
   ],
   "source": [
    "accident['Road_Surface_Conditions'].value_counts()"
   ]
  },
  {
   "cell_type": "code",
   "execution_count": 26,
   "id": "abd73e2d-788d-4183-a9ed-d7d3b51f18b5",
   "metadata": {},
   "outputs": [
    {
     "data": {
      "text/html": [
       "<div>\n",
       "<style scoped>\n",
       "    .dataframe tbody tr th:only-of-type {\n",
       "        vertical-align: middle;\n",
       "    }\n",
       "\n",
       "    .dataframe tbody tr th {\n",
       "        vertical-align: top;\n",
       "    }\n",
       "\n",
       "    .dataframe thead th {\n",
       "        text-align: right;\n",
       "    }\n",
       "</style>\n",
       "<table border=\"1\" class=\"dataframe\">\n",
       "  <thead>\n",
       "    <tr style=\"text-align: right;\">\n",
       "      <th>Year</th>\n",
       "      <th>2019.0</th>\n",
       "      <th>2020.0</th>\n",
       "      <th>2021.0</th>\n",
       "      <th>2022.0</th>\n",
       "    </tr>\n",
       "    <tr>\n",
       "      <th>Road_Surface_Conditions</th>\n",
       "      <th></th>\n",
       "      <th></th>\n",
       "      <th></th>\n",
       "      <th></th>\n",
       "    </tr>\n",
       "  </thead>\n",
       "  <tbody>\n",
       "    <tr>\n",
       "      <th>Dry</th>\n",
       "      <td>52802</td>\n",
       "      <td>43767</td>\n",
       "      <td>42698</td>\n",
       "      <td>39032</td>\n",
       "    </tr>\n",
       "    <tr>\n",
       "      <th>Flood over 3cm. deep</th>\n",
       "      <td>102</td>\n",
       "      <td>178</td>\n",
       "      <td>96</td>\n",
       "      <td>32</td>\n",
       "    </tr>\n",
       "    <tr>\n",
       "      <th>Frost or ice</th>\n",
       "      <td>845</td>\n",
       "      <td>2309</td>\n",
       "      <td>2543</td>\n",
       "      <td>3493</td>\n",
       "    </tr>\n",
       "    <tr>\n",
       "      <th>Snow</th>\n",
       "      <td>268</td>\n",
       "      <td>370</td>\n",
       "      <td>966</td>\n",
       "      <td>1303</td>\n",
       "    </tr>\n",
       "    <tr>\n",
       "      <th>Wet or damp</th>\n",
       "      <td>17850</td>\n",
       "      <td>23539</td>\n",
       "      <td>19869</td>\n",
       "      <td>12945</td>\n",
       "    </tr>\n",
       "  </tbody>\n",
       "</table>\n",
       "</div>"
      ],
      "text/plain": [
       "Year                     2019.0  2020.0  2021.0  2022.0\n",
       "Road_Surface_Conditions                                \n",
       "Dry                       52802   43767   42698   39032\n",
       "Flood over 3cm. deep        102     178      96      32\n",
       "Frost or ice                845    2309    2543    3493\n",
       "Snow                        268     370     966    1303\n",
       "Wet or damp               17850   23539   19869   12945"
      ]
     },
     "execution_count": 26,
     "metadata": {},
     "output_type": "execute_result"
    }
   ],
   "source": [
    "RSC = accident.groupby(['Road_Surface_Conditions', 'Year']).size().unstack(fill_value=0)\n",
    "RSC"
   ]
  },
  {
   "cell_type": "code",
   "execution_count": 27,
   "id": "6ec2ec1e-79cc-417f-bdbe-0a5b576acc78",
   "metadata": {},
   "outputs": [
    {
     "data": {
      "image/png": "[encoded data removed]",
      "text/plain": [
       "<Figure size 640x480 with 1 Axes>"
      ]
     },
     "metadata": {},
     "output_type": "display_data"
    }
   ],
   "source": [
    "RSC.plot(kind='bar', stacked=True)\n",
    "plt.title('Road Surface Conditions per Year')\n",
    "plt.xlabel('Road Surface Conditons')\n",
    "plt.ylabel('Year')\n",
    "plt.show()"
   ]
  },
  {
   "cell_type": "markdown",
   "id": "8e40614b-4203-48cf-82f2-ed6c8cab82a3",
   "metadata": {},
   "source": [
    "<h1>Insight no.1</h1>\n",
    "<h2>In the Road Surface Conditions we can see that dry has 67% of the total accident happened in that year 2019</h2>"
   ]
  },
  {
   "cell_type": "code",
   "execution_count": 28,
   "id": "4dc396b4-b3da-4a3f-8e57-8aca8033319e",
   "metadata": {},
   "outputs": [
    {
     "data": {
      "text/plain": [
       "Accident_Severity\n",
       "Slight     563801\n",
       "Serious     88217\n",
       "Fatal        8661\n",
       "Name: count, dtype: int64"
      ]
     },
     "execution_count": 28,
     "metadata": {},
     "output_type": "execute_result"
    }
   ],
   "source": [
    "accident['Accident_Severity'].value_counts()"
   ]
  },
  {
   "cell_type": "code",
   "execution_count": 29,
   "id": "da6b0c3d-d832-46f1-b142-9fd65325dc25",
   "metadata": {},
   "outputs": [
    {
     "data": {
      "text/html": [
       "<div>\n",
       "<style scoped>\n",
       "    .dataframe tbody tr th:only-of-type {\n",
       "        vertical-align: middle;\n",
       "    }\n",
       "\n",
       "    .dataframe tbody tr th {\n",
       "        vertical-align: top;\n",
       "    }\n",
       "\n",
       "    .dataframe thead th {\n",
       "        text-align: right;\n",
       "    }\n",
       "</style>\n",
       "<table border=\"1\" class=\"dataframe\">\n",
       "  <thead>\n",
       "    <tr style=\"text-align: right;\">\n",
       "      <th>Year</th>\n",
       "      <th>2019.0</th>\n",
       "      <th>2020.0</th>\n",
       "      <th>2021.0</th>\n",
       "      <th>2022.0</th>\n",
       "    </tr>\n",
       "    <tr>\n",
       "      <th>Accident_Severity</th>\n",
       "      <th></th>\n",
       "      <th></th>\n",
       "      <th></th>\n",
       "      <th></th>\n",
       "    </tr>\n",
       "  </thead>\n",
       "  <tbody>\n",
       "    <tr>\n",
       "      <th>Fatal</th>\n",
       "      <td>1116</td>\n",
       "      <td>942</td>\n",
       "      <td>823</td>\n",
       "      <td>623</td>\n",
       "    </tr>\n",
       "    <tr>\n",
       "      <th>Serious</th>\n",
       "      <td>9823</td>\n",
       "      <td>9346</td>\n",
       "      <td>8858</td>\n",
       "      <td>7266</td>\n",
       "    </tr>\n",
       "    <tr>\n",
       "      <th>Slight</th>\n",
       "      <td>60928</td>\n",
       "      <td>59875</td>\n",
       "      <td>56491</td>\n",
       "      <td>48916</td>\n",
       "    </tr>\n",
       "  </tbody>\n",
       "</table>\n",
       "</div>"
      ],
      "text/plain": [
       "Year               2019.0  2020.0  2021.0  2022.0\n",
       "Accident_Severity                                \n",
       "Fatal                1116     942     823     623\n",
       "Serious              9823    9346    8858    7266\n",
       "Slight              60928   59875   56491   48916"
      ]
     },
     "execution_count": 29,
     "metadata": {},
     "output_type": "execute_result"
    }
   ],
   "source": [
    "ASY = accident.groupby(['Accident_Severity', 'Year']).size().unstack(fill_value=0)\n",
    "ASY"
   ]
  },
  {
   "cell_type": "code",
   "execution_count": 30,
   "id": "44bafa27-63b4-45c0-931c-c9c4ad6f77a3",
   "metadata": {},
   "outputs": [
    {
     "data": {
      "image/png": "[encoded data removed]",
      "text/plain": [
       "<Figure size 640x480 with 1 Axes>"
      ]
     },
     "metadata": {},
     "output_type": "display_data"
    },
    {
     "ename": "NameError",
     "evalue": "name 'AS' is not defined",
     "output_type": "error",
     "traceback": [
      "\u001b[1;31m---------------------------------------------------------------------------\u001b[0m",
      "\u001b[1;31mNameError\u001b[0m                                 Traceback (most recent call last)",
      "Cell \u001b[1;32mIn[30], line 7\u001b[0m\n\u001b[0;32m      4\u001b[0m plt\u001b[38;5;241m.\u001b[39mylabel(\u001b[38;5;124m'\u001b[39m\u001b[38;5;124mYear\u001b[39m\u001b[38;5;124m'\u001b[39m)\n\u001b[0;32m      5\u001b[0m plt\u001b[38;5;241m.\u001b[39mshow()\n\u001b[1;32m----> 7\u001b[0m \u001b[43mAS\u001b[49m\u001b[38;5;241m.\u001b[39mplot(kind\u001b[38;5;241m=\u001b[39m\u001b[38;5;124m'\u001b[39m\u001b[38;5;124mline\u001b[39m\u001b[38;5;124m'\u001b[39m, stacked\u001b[38;5;241m=\u001b[39m\u001b[38;5;28;01mTrue\u001b[39;00m)\n\u001b[0;32m      8\u001b[0m plt\u001b[38;5;241m.\u001b[39mtitle(\u001b[38;5;124m'\u001b[39m\u001b[38;5;124mAccident Severity per Year\u001b[39m\u001b[38;5;124m'\u001b[39m)\n\u001b[0;32m      9\u001b[0m plt\u001b[38;5;241m.\u001b[39mxlabel(\u001b[38;5;124m'\u001b[39m\u001b[38;5;124mAccident Severity\u001b[39m\u001b[38;5;124m'\u001b[39m)\n",
      "\u001b[1;31mNameError\u001b[0m: name 'AS' is not defined"
     ]
    }
   ],
   "source": [
    "ASY.plot(kind='bar', stacked=True)\n",
    "plt.title('Accident Severity per Year')\n",
    "plt.xlabel('Accident Severity')\n",
    "plt.ylabel('Year')\n",
    "plt.show()\n",
    "\n",
    "AS.plot(kind='line', stacked=True)\n",
    "plt.title('Accident Severity per Year')\n",
    "plt.xlabel('Accident Severity')\n",
    "plt.ylabel('Year')\n",
    "plt.show()"
   ]
  },
  {
   "cell_type": "markdown",
   "id": "6fcc993c-70b3-4234-b965-976e805ed052",
   "metadata": {},
   "source": [
    "<h1>Insight no.2</h1>\n",
    "<h2>The highest is the slight injury so there is 85% in th Accident Severity</h2>"
   ]
  },
  {
   "cell_type": "markdown",
   "id": "c0c4d4e6-76ce-442e-8906-61135c558a4f",
   "metadata": {},
   "source": [
    "<h1>Highest accident in the Weather Conditions</h1>"
   ]
  },
  {
   "cell_type": "code",
   "execution_count": null,
   "id": "5b7a07aa-e8e5-4c5a-badd-c1a449a46b1a",
   "metadata": {},
   "outputs": [],
   "source": [
    "accident['Weather_Conditions'].value_counts()"
   ]
  },
  {
   "cell_type": "code",
   "execution_count": null,
   "id": "bf6e9d81-bec0-48dc-99dc-ea350b3774f9",
   "metadata": {},
   "outputs": [],
   "source": [
    "wcy = accident.groupby(['Weather_Conditions', 'Year']).size().unstack(fill_value=0)\n",
    "wcy"
   ]
  },
  {
   "cell_type": "code",
   "execution_count": null,
   "id": "c0ea0115-12ad-4d08-bda3-bea87f2d2008",
   "metadata": {},
   "outputs": [],
   "source": [
    "wcy.plot(kind='bar', stacked=True)\n",
    "plt.title('Accident Severity per Year')\n",
    "plt.xlabel('Accident Severity')\n",
    "plt.ylabel('Year')\n",
    "plt.show()"
   ]
  },
  {
   "cell_type": "markdown",
   "id": "be92a987-4598-4141-9629-b8faef7a927e",
   "metadata": {},
   "source": [
    "<h1>Insight no.3</h1>\n",
    "<h2>Fine no high winds is the highest number of accident happened in the year 2019</h2>"
   ]
  },
  {
   "cell_type": "markdown",
   "id": "21c761f2-db06-424c-8824-724161c0ec5f",
   "metadata": {},
   "source": [
    "<h1>Year 2019 to 2022</h1>"
   ]
  },
  {
   "cell_type": "code",
   "execution_count": null,
   "id": "e36cf471-6aca-42af-9f97-78c831701256",
   "metadata": {},
   "outputs": [],
   "source": [
    "NMC = accident.groupby(['Number_of_Casualties', 'Year']).size().unstack(fill_value=0)\n",
    "NMC"
   ]
  },
  {
   "cell_type": "code",
   "execution_count": null,
   "id": "506665a6-168b-4b7f-b4d1-3aaf1ef5e32f",
   "metadata": {},
   "outputs": [],
   "source": [
    "NMC.plot(kind='bar', stacked=True)\n",
    "plt.title('Number of Casualties per Year')\n",
    "plt.xlabel('Number_of_Casualties')\n",
    "plt.ylabel('Year')\n",
    "plt.show()\n",
    "\n",
    "NMC.plot(kind='line', stacked=True)\n",
    "plt.title('Number of Casualties per Year')\n",
    "plt.xlabel('Number_of_Casualties')\n",
    "plt.ylabel('Year')\n",
    "plt.show()"
   ]
  },
  {
   "cell_type": "markdown",
   "id": "70b73b30-3e24-491d-9e8e-fb889a16184b",
   "metadata": {},
   "source": [
    "<h1>Insight no.4</h1>\n",
    "<h2>There is 75% of accident happened in the dry road conditions year 2019</h2>"
   ]
  },
  {
   "cell_type": "markdown",
   "id": "a2eb5211-ffe6-4527-9513-5e5857a78cbe",
   "metadata": {},
   "source": [
    "<h1>What district area has the most accident</h1>"
   ]
  },
  {
   "cell_type": "code",
   "execution_count": null,
   "id": "504fcc63-be7d-4a16-93ad-faff06858b28",
   "metadata": {},
   "outputs": [],
   "source": [
    "accident['District Area'].value_counts()"
   ]
  },
  {
   "cell_type": "markdown",
   "id": "0d689658-7c39-4cf5-81b2-e907228a3452",
   "metadata": {},
   "source": [
    "<h1>Insight no.5</h1>\n",
    "<h2>There is 32% of accident happened in the district area of birmingham</h2>"
   ]
  },
  {
   "cell_type": "code",
   "execution_count": null,
   "id": "d7298ac2-2334-4cf9-b0ab-e1ffacf9a2e3",
   "metadata": {},
   "outputs": [],
   "source": [
    "as_nc = accident.groupby([\"Accident_Severity\", \"Number_of_Casualties\"]).size().unstack(fill_value=0)\n",
    "as_nc"
   ]
  },
  {
   "cell_type": "markdown",
   "id": "7c047467-e7ad-46f3-9aba-ac53d2a091bc",
   "metadata": {},
   "source": [
    "<h1>Insight no.6</h1>\n",
    "<h2>There is 76% number of vehicles that accident happened</h2>"
   ]
  },
  {
   "cell_type": "markdown",
   "id": "7b07a765-be3e-47ae-8663-8ad142f5431f",
   "metadata": {},
   "source": [
    "<h1>Question</h1>\n",
    "<h2>What Weather Conditions that accident happened?</h2>"
   ]
  },
  {
   "cell_type": "code",
   "execution_count": null,
   "id": "cc25177c-b517-4d52-b8fd-b77eedf4b34e",
   "metadata": {},
   "outputs": [],
   "source": [
    "accident['Weather_Conditions'].mode()"
   ]
  },
  {
   "cell_type": "markdown",
   "id": "3246f485-31e3-4198-9518-a27160baf4cc",
   "metadata": {},
   "source": [
    "<h1>Insight no.7</h1>\n",
    "<h2>In the Weather Conditions, fine no high winds is the conditions that happened</h2>"
   ]
  },
  {
   "cell_type": "markdown",
   "id": "7513479c-b156-4b49-a944-aed3bd6ce5e1",
   "metadata": {},
   "source": [
    "<h1>Bivariate</h1>"
   ]
  },
  {
   "cell_type": "markdown",
   "id": "26885d34-dbc3-4dfb-9e27-8984c9100cb2",
   "metadata": {},
   "source": [
    "<h1>Question</h1>\n",
    "<h2>What is the relationship between the accident severity to the weather conditions that happened from that accident</h2>"
   ]
  },
  {
   "cell_type": "code",
   "execution_count": null,
   "id": "8cb145df-8426-469d-b094-f05ec11b482e",
   "metadata": {},
   "outputs": [],
   "source": [
    "As_Wc = accident.groupby([\"Accident_Severity\", \"Weather_Conditions\"]).size().unstack(fill_value=0)\n",
    "As_Wc"
   ]
  },
  {
   "cell_type": "markdown",
   "id": "640873ac-64c2-434a-9015-6ecdf80fcd73",
   "metadata": {},
   "source": [
    "<h1>Insight no.8</h1>\n",
    "<h2>A high proportion of severe accidents during foggy conditions, even if the absolute number is low, is still significant</h2>"
   ]
  },
  {
   "cell_type": "markdown",
   "id": "4e486c68-f13a-41e1-8a6f-abfb76c296b5",
   "metadata": {},
   "source": [
    "<h1>Question</h1>\n",
    "<h2>What Type of Vehicle in the Road Surface Conditions on the accident</h2>"
   ]
  },
  {
   "cell_type": "code",
   "execution_count": null,
   "id": "09def63c-3694-46ee-b33f-9e4301a67e4e",
   "metadata": {},
   "outputs": [],
   "source": [
    "vt_nv = accident.groupby([\"Vehicle_Type\", \"Number_of_Vehicles\"]).size().unstack(fill_value=0)\n",
    "vt_nv"
   ]
  },
  {
   "cell_type": "markdown",
   "id": "c68505e0-9a53-445e-8803-f322b42869ee",
   "metadata": {},
   "source": [
    "<h1>Insight no.9</h1>\n",
    "<h2>There has a different type of vehicle that the most of it in the road surface conditions highest are the dry </h2>"
   ]
  },
  {
   "cell_type": "markdown",
   "id": "5c663da3-672a-4b72-9b51-306ed72c5085",
   "metadata": {},
   "source": [
    "<h1>Question</h1>\n",
    "<h2>What are the locations with the highest concentration of accidents?</h2>"
   ]
  },
  {
   "cell_type": "code",
   "execution_count": null,
   "id": "815d5e3c-c561-4ed6-9595-84fdd2c088dc",
   "metadata": {},
   "outputs": [],
   "source": [
    "LL = accident.groupby([\"Longitude\", \"Year\"]).size().unstack(fill_value=0)\n",
    "LL"
   ]
  },
  {
   "cell_type": "code",
   "execution_count": null,
   "id": "922987f4-ff84-4ddc-85e4-0e0caaad4f63",
   "metadata": {},
   "outputs": [],
   "source": [
    "LL.plot(kind='line')\n",
    "plt.title('Latitude Longitude')\n",
    "plt.xlabel('Longitude')\n",
    "plt.ylabel('Year')\n",
    "plt.show()"
   ]
  },
  {
   "cell_type": "markdown",
   "id": "2ae5d09a-6fe6-4cba-84cc-fa7c5d194c9e",
   "metadata": {},
   "source": [
    "<h1>Insight no.10</h1>\n",
    "<h2>There is 12% of location in Year 20222 of the Longitude</h2>"
   ]
  },
  {
   "cell_type": "markdown",
   "id": "ff1d87bc-1489-40af-a7c8-8d2c145ea6d9",
   "metadata": {},
   "source": [
    "<h1>Question</h1>\n",
    "<h2>What is the distribution of accident frequency across different months of the year</h2>"
   ]
  },
  {
   "cell_type": "code",
   "execution_count": null,
   "id": "36207e07-5006-4387-9de8-38ec46e676e0",
   "metadata": {},
   "outputs": [],
   "source": [
    "MPY = accident.groupby([\"Accident_Severity\", \"Year\"]).size().unstack(fill_value=0)\n",
    "MPY"
   ]
  },
  {
   "cell_type": "code",
   "execution_count": null,
   "id": "3f28ea89-9ea5-45b3-bad4-5e6b57127b44",
   "metadata": {},
   "outputs": [],
   "source": [
    "MPY.plot(kind='bar')\n",
    "plt.title('Months per Year')\n",
    "plt.xlabel('Accident_Severity')\n",
    "plt.ylabel('Year')\n",
    "plt.show()"
   ]
  },
  {
   "cell_type": "markdown",
   "id": "e25156ce-28cf-4187-be8f-057de0263162",
   "metadata": {},
   "source": [
    "<h1>Insight no.11</h1>\n",
    "<h2>Look for months with unusually high or low accident counts compared to the average for that month across other years.</h2>"
   ]
  },
  {
   "cell_type": "markdown",
   "id": "40150356-649c-4370-94da-0803790663cc",
   "metadata": {},
   "source": [
    "<h1>Question</h1>\n",
    "<h2>Is there a significant difference in accident frequency between light conditions in all year?</h2>"
   ]
  },
  {
   "cell_type": "code",
   "execution_count": null,
   "id": "6f92e7f9-c3b1-4beb-9869-7cdbcd4fbf86",
   "metadata": {},
   "outputs": [],
   "source": [
    "LCY = accident.groupby([\"Light_Conditions\", \"Year\"]).size().unstack(fill_value=0)\n",
    "LCY"
   ]
  },
  {
   "cell_type": "code",
   "execution_count": null,
   "id": "fd04f753-ea7d-4279-a182-c69b00b1c7ce",
   "metadata": {},
   "outputs": [],
   "source": [
    "LCY.plot(kind='bar') #stacked=True\n",
    "plt.title('Light Conditions per Year')\n",
    "plt.xlabel('Light_Conditions')\n",
    "plt.ylabel('Year')\n",
    "plt.show()"
   ]
  },
  {
   "cell_type": "code",
   "execution_count": null,
   "id": "bc23db0b-145b-4654-92ff-3839c8234711",
   "metadata": {},
   "outputs": [],
   "source": [
    "LCY = accident.groupby(['Light_Conditions', 'Year']).size().reset_index(name = 'Light_Conditions_Count' )\n",
    "\n",
    "easy_df = LC.pivot(index='Year', columns='Light_Conditions', values='Light_Conditions_Count')\n",
    "\n",
    "plt.plot(easy_df.index, easy_df['Daylight'], label='Daylight', marker='o' )\n",
    "plt.plot(easy_df.index, easy_df['Darkness - lights lit'], label='Darkness - lights lit', marker='o' )\n",
    "plt.plot(easy_df.index, easy_df['Darkness - no lighting'], label='Darkness - no lighting', marker='o' )\n",
    "plt.plot(easy_df.index, easy_df['Darkness - lighting unknown'], label='Darkness - lighting unknown', marker='o' )\n",
    "plt.plot(easy_df.index, easy_df['Darkness - lights unlit'], label='Darkness - lights unlit', marker='o' )\n",
    "\n",
    "plt.legend()\n",
    "plt.show()"
   ]
  },
  {
   "cell_type": "markdown",
   "id": "77432f4d-1fde-48a1-a820-1b5aaf7084e2",
   "metadata": {},
   "source": [
    "<h1>Insight no.12</h1>\n",
    "<h2>In a light condition experience higher incident happened in year 2019 and it's daylight, leading to a greater number of accidents, though often less severe. This suggests that might have a higher overall accident frequency, but the severity might be lower due to lower speeds</h2>"
   ]
  },
  {
   "cell_type": "markdown",
   "id": "26400dc8-4bda-442e-80ab-7f26665cef79",
   "metadata": {},
   "source": [
    "<h1>Question</h1>\n",
    "<h2>How does accident frequency change across different light conditions, controlling for weather?</h2>"
   ]
  },
  {
   "cell_type": "code",
   "execution_count": null,
   "id": "7d9f7f8b-0f9b-4054-8e40-2591b8ed75ad",
   "metadata": {},
   "outputs": [],
   "source": [
    "lc_wc = accident.groupby(['Weather_Conditions'])['Light_Conditions'].value_counts()\n",
    "lc_wc"
   ]
  },
  {
   "cell_type": "markdown",
   "id": "0353ffa2-c642-4b3d-90cb-d981f08ff646",
   "metadata": {},
   "source": [
    "<h1>Insight no.13</h1>\n",
    "<h2>If the relative risk of an accident at night compared to daytime is consistently higher across various weather conditions, it strongly suggests that poor lighting is a significant independent factor influencing accident frequency.</h2>"
   ]
  },
  {
   "cell_type": "markdown",
   "id": "9e7f57b6-77fd-41c0-b373-26ad09542d94",
   "metadata": {},
   "source": [
    "<h1>Question</h1>\n",
    "<h2>Which combination of road type and surface conditions leads to the most serious accidents? </h2>"
   ]
  },
  {
   "cell_type": "code",
   "execution_count": null,
   "id": "b7ec72b9-69dc-43a0-a331-49ec09c7a4ea",
   "metadata": {},
   "outputs": [],
   "source": [
    "as_rt_rsc = accident.groupby([\"Accident_Severity\", \"Road_Type\", \"Road_Surface_Conditions\"]).count()\n",
    "as_rt_rsc"
   ]
  },
  {
   "cell_type": "markdown",
   "id": "92f21ec5-341a-45ef-88b7-5679c5ff6449",
   "metadata": {},
   "source": [
    "<h1>Insight no.14</h1>\n",
    "<h2>We can see those accident severity whose the highest in like fatal or slight and serious accident happened in that conditions</h2>"
   ]
  },
  {
   "cell_type": "markdown",
   "id": "7dbba0f1-d33b-43ce-9d6e-90476695062e",
   "metadata": {},
   "source": [
    "<h1>Question</h1>\n",
    "<h2>How do combinations of weather, light, and road surface conditions influence the frequency of accidents?</h2>"
   ]
  },
  {
   "cell_type": "code",
   "execution_count": null,
   "id": "69f5ebb5-ad16-4938-a702-2ef21284e1f3",
   "metadata": {},
   "outputs": [],
   "source": [
    "wc_lc_rc = accident.groupby([\"Weather_Conditions\", \"Light_Conditions\", \"Road_Surface_Conditions\"]).count()\n",
    "wc_lc_rc"
   ]
  },
  {
   "cell_type": "markdown",
   "id": "62435e48-675f-48e7-bd7c-eabba37fbde0",
   "metadata": {},
   "source": [
    "<h1>Insight no.15</h1>\n",
    "<h2>A higher accident count under certain conditions might simply reflect more driving under those conditions.</h2>"
   ]
  },
  {
   "cell_type": "markdown",
   "id": "fba3d5e5-f729-42aa-8f1f-26b5b67fe604",
   "metadata": {},
   "source": [
    "<h1>Question</h1>\n",
    "<h2>How does the frequency of accidents vary across different vehicle types, district areas, and days of the year?</h2>"
   ]
  },
  {
   "cell_type": "code",
   "execution_count": null,
   "id": "d747ed46-4ddd-4099-8a02-97ef418e2190",
   "metadata": {},
   "outputs": [],
   "source": [
    "vt_da_ad = accident.groupby([\"Vehicle_Type\", \"District Area\", \"Accident Date\"]).count()\n",
    "vt_da_ad"
   ]
  },
  {
   "cell_type": "markdown",
   "id": "721899e1-ca68-4cbf-ad1f-f03f0526ce2d",
   "metadata": {},
   "source": [
    "<h1>Insight no.16</h1>\n",
    "<h2>It represent all the data in the district area of every year and when its the accident happened</h2>"
   ]
  },
  {
   "cell_type": "markdown",
   "id": "63e0b36f-a102-4b59-82af-0e1623799931",
   "metadata": {},
   "source": [
    "<h1>Question</h1>\n",
    "<h2>How might this analysis be used to inform strategies for accident prevention?</h2>"
   ]
  },
  {
   "cell_type": "code",
   "execution_count": null,
   "id": "15381d8e-55a0-4c5f-8df7-014329466af9",
   "metadata": {},
   "outputs": [],
   "source": [
    "ad_lc_ura = accident.groupby([\"Accident Date\", \"Light_Conditions\", \"Urban_or_Rural_Area\"]).count()\n",
    "ad_lc_ura"
   ]
  },
  {
   "cell_type": "markdown",
   "id": "425fb5cf-0ded-4dbd-9189-89a5f49f978d",
   "metadata": {},
   "source": [
    "<h1>Insight no.17</h1>\n",
    "<h2>The analysis might highlight the need for infrastructure improvements such as better road signage, improved pedestrian crossings, or the addition of roundabouts at accident-prone locations.</h2>"
   ]
  },
  {
   "cell_type": "markdown",
   "id": "b4b8ea1c-d5fb-4575-b886-a25a3a250dfd",
   "metadata": {},
   "source": [
    "<h1>Question</h1>\n",
    "<h2>Are there particular combinations of vehicle type, road type, and road surface conditions that consistently lead to a higher frequency of accidents?</h2>"
   ]
  },
  {
   "cell_type": "code",
   "execution_count": null,
   "id": "19ecbcac-0622-48f5-99cd-fadc07896abc",
   "metadata": {},
   "outputs": [],
   "source": [
    "vt_rt_rc = accident.groupby([\"Vehicle_Type\", \"Road_Type\", \"Road_Surface_Conditions\"]).count()\n",
    "vt_rt_rc"
   ]
  },
  {
   "cell_type": "markdown",
   "id": "b7c990ee-07e8-480a-a91c-1502e29c0243",
   "metadata": {},
   "source": [
    "<h1>Insight no.18</h1>\n",
    "<h2>The combinations of vehicle type, road type, and road surface conditions that pose the greatest risk, enabling targeted safety interventions.</h2>"
   ]
  },
  {
   "cell_type": "markdown",
   "id": "53643613-84e7-42e9-b963-53c6f8f0fbc4",
   "metadata": {},
   "source": [
    "<h1>Question</h1>\n",
    "<h2>How do trends in the relationship between the number of vehicles involved and the number of casualties evolve over time, and are there specific temporal patterns that influence these relationships?</h2>"
   ]
  },
  {
   "cell_type": "code",
   "execution_count": null,
   "id": "3e43b207-6b5d-4b53-9f27-8751b0d13c7f",
   "metadata": {},
   "outputs": [],
   "source": [
    "ad_nv_nc = accident.groupby([\"Accident Date\", \"Number_of_Vehicles\", \"Number_of_Casualties\"]).count()\n",
    "ad_nv_nc"
   ]
  },
  {
   "cell_type": "markdown",
   "id": "fba2a9bf-05d9-4944-b59d-c3faa2833c05",
   "metadata": {},
   "source": [
    "<h1>Insight no.19</h1>\n",
    "<h2>How do trends in the relationship between the number of vehicles involved and the number of casualties evolve over time, and are there specific temporal patterns that influence these relationships?</h2>"
   ]
  },
  {
   "cell_type": "markdown",
   "id": "3865dab8-60c9-4579-a65c-f42e0e52e95e",
   "metadata": {},
   "source": [
    "<h1>Question</h1>\n",
    "<h2>Are there specific vehicle types that exhibit a greater propensity for accidents under certain light conditions (e.g., darkness, daylight) during particular periods of the year or days of the week?</h2>"
   ]
  },
  {
   "cell_type": "code",
   "execution_count": null,
   "id": "3c10cda6-2cfa-499b-adcb-886c2d1fba6a",
   "metadata": {},
   "outputs": [],
   "source": [
    "ad_lc_vt = accident.groupby([\"Accident Date\", \"Light_Conditions\", \"Vehicle_Type\"]).count()\n",
    "ad_lc_vt"
   ]
  },
  {
   "cell_type": "code",
   "execution_count": null,
   "id": "37326461-8f97-424f-9160-0fbf1cb39fc9",
   "metadata": {},
   "outputs": [],
   "source": []
  },
  {
   "cell_type": "markdown",
   "id": "7c63cd82-7249-49da-8e81-a38506fb69c7",
   "metadata": {},
   "source": [
    "<h1>Insight no.20</h1>\n",
    "<h2>It can determine if certain vehicle types are disproportionately involved in accidents under specific light conditions.</h2>"
   ]
  },
  {
   "cell_type": "markdown",
   "id": "e8ea68ad-28ea-4be0-8d39-aa708af741fb",
   "metadata": {},
   "source": [
    "<h1>LINE PLOT</h1>"
   ]
  },
  {
   "cell_type": "code",
   "execution_count": null,
   "id": "d73a566d-b0ba-42e6-bb27-c63770d3b09c",
   "metadata": {},
   "outputs": [],
   "source": [
    "year_area = accident.groupby(['District Area', 'Year']).size().reset_index(name = 'Accident_Count')\n",
    "\n",
    "easy_df = year_area.pivot(index='Year', columns='District Area', values='Accident_Count')\n",
    "\n",
    "#lineplot\n",
    "#(x, y)\n",
    "plt.plot(easy_df.index, easy_df['Birmingham'], label='Birmingham', marker='o' )\n",
    "plt.plot(easy_df.index, easy_df['Leeds'], label='Leeds', marker='o' )\n",
    "plt.plot(easy_df.index, easy_df['Manchester'], label='Manchester', marker='o' )\n",
    "plt.plot(easy_df.index, easy_df['Bradford'], label='Bradford', marker='o' )\n",
    "plt.plot(easy_df.index, easy_df['Sheffield'], label='Sheffield', marker='o' )\n",
    "plt.plot(easy_df.index, easy_df['Berwick-upon-Tweed'], label='Berwick-upon-Tweed', marker='o' )\n",
    "plt.plot(easy_df.index, easy_df['Teesdale'], label='Teesdale', marker='o' )\n",
    "plt.plot(easy_df.index, easy_df['Shetland Islands'], label='Shetland Islands', marker='o' )\n",
    "\n",
    "plt.legend()\n",
    "plt.show()"
   ]
  },
  {
   "cell_type": "markdown",
   "id": "bacad9e0-13cb-4a24-8b6c-b1240950c1d8",
   "metadata": {},
   "source": [
    "<h1>Visualizing Correlation</h1>"
   ]
  },
  {
   "cell_type": "code",
   "execution_count": null,
   "id": "38568f6a-5b50-4993-b5a9-b5a2abdf24bf",
   "metadata": {},
   "outputs": [],
   "source": [
    "# Accident Severity\n",
    "# Vehicle Type\n",
    "cas_veh = accident.groupby(['Accident_Severity', 'Vehicle_Type']).size().unstack()\n",
    "\n",
    "sns.heatmap(cas_veh, cmap='crest')\n",
    "plt.show()"
   ]
  },
  {
   "cell_type": "markdown",
   "id": "1ee8dc6a-dd13-4357-b29b-6d3dd133c5a7",
   "metadata": {},
   "source": [
    "<h1>Scatter plot</h1>"
   ]
  },
  {
   "cell_type": "code",
   "execution_count": null,
   "id": "1bb354e8-1c47-4509-a15e-db0ee7cb1d0f",
   "metadata": {},
   "outputs": [],
   "source": [
    "# Number of Casualties, Accident Severity\n",
    "\n",
    "cas_veh = accident.groupby(['Accident_Severity', 'DayofWeek'])['Number_of_Casualties'].mean().reset_index(name='average accident')\n",
    "\n",
    "# cas_veh\n",
    "plt.scatter(cas_veh['DayofWeek'], cas_veh['average accident'])\n",
    "plt.show()"
   ]
  },
  {
   "cell_type": "code",
   "execution_count": null,
   "id": "e7681cfb-70a1-4774-9553-f98b2baa8158",
   "metadata": {},
   "outputs": [],
   "source": []
  },
  {
   "cell_type": "code",
   "execution_count": null,
   "id": "6c45105d-380b-4e5c-ab01-977f3323962b",
   "metadata": {},
   "outputs": [],
   "source": []
  }
 ],
 "metadata": {
  "kernelspec": {
   "display_name": "Python 3 (ipykernel)",
   "language": "python",
   "name": "python3"
  },
  "language_info": {
   "codemirror_mode": {
    "name": "ipython",
    "version": 3
   },
   "file_extension": ".py",
   "mimetype": "text/x-python",
   "name": "python",
   "nbconvert_exporter": "python",
   "pygments_lexer": "ipython3",
   "version": "3.13.1"
  }
 },
 "nbformat": 4,
 "nbformat_minor": 5
}
